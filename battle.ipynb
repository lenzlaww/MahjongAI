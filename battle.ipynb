{
 "cells": [
  {
   "cell_type": "code",
   "execution_count": 5,
   "id": "7c8f5133",
   "metadata": {},
   "outputs": [],
   "source": [
    "import mjx\n",
    "from mjx.agents import RandomAgent, ShantenAgent\n",
    "\n",
    "from ppo_agent import PPOAgent, GymEnv\n",
    "from tqdm import tqdm\n",
    "\n"
   ]
  },
  {
   "cell_type": "code",
   "execution_count": 6,
   "id": "98f6804f",
   "metadata": {},
   "outputs": [],
   "source": [
    "RANK_DICT = {\n",
    "    90 : 1,\n",
    "    45 : 2,\n",
    "    0 : 3,\n",
    "    -135 : 4\n",
    "}\n",
    "\n",
    "def eval(records):\n",
    "    avg_score = sum([record[\"score\"] for record in records]) / len(records)\n",
    "    avg_rank = sum([record[\"rank\"] for record in records]) / len(records)\n",
    "    \n",
    "    print(f\"Average score: {avg_score:.2f}\")\n",
    "    print(f\"Average rank: {avg_rank:.2f}\")\n",
    "    "
   ]
  },
  {
   "cell_type": "markdown",
   "id": "ca6213e3",
   "metadata": {},
   "source": [
    "## Test Base Model: Base Model vs. Base Model"
   ]
  },
  {
   "cell_type": "code",
   "execution_count": null,
   "id": "977fcea8",
   "metadata": {},
   "outputs": [],
   "source": [
    "base_agent = RandomAgent()\n",
    "env = mjx.MjxEnv()\n",
    "\n",
    "N = 1\n",
    "results = []\n",
    "\n",
    "for _ in tqdm(range(N)):\n",
    "    obs_dict = env.reset()\n",
    "    while not env.done():\n",
    "        actions = {\n",
    "            player_id: base_agent.act(obs_dict[player_id])\n",
    "            for player_id in obs_dict.keys()\n",
    "        }\n",
    "\n",
    "        obs_dict = env.step(actions)\n",
    "\n",
    "    my_index = obs_dict[\"player_0\"].who()\n",
    "    score = obs_dict[\"player_0\"].tens()[my_index]\n",
    "    my_reward = env.rewards()[\"player_0\"]\n",
    "    my_rank = RANK_DICT[my_reward]\n",
    "\n",
    "    \n",
    "    \n",
    "\n",
    "\n"
   ]
  },
  {
   "cell_type": "markdown",
   "id": "07537c71",
   "metadata": {},
   "source": [
    "## Test PPO Model: PPO Model vs. Base Model"
   ]
  },
  {
   "cell_type": "code",
   "execution_count": 3,
   "id": "ddd3b4eb",
   "metadata": {},
   "outputs": [
    {
     "name": "stderr",
     "output_type": "stream",
     "text": [
      "/home/yuqing/mjx/ppo_agent.py:175: FutureWarning: You are using `torch.load` with `weights_only=False` (the current default value), which uses the default pickle module implicitly. It is possible to construct malicious pickle data which will execute arbitrary code during unpickling (See https://github.com/pytorch/pytorch/blob/main/SECURITY.md#untrusted-models for more details). In a future release, the default value for `weights_only` will be flipped to `True`. This limits the functions that could be executed during unpickling. Arbitrary objects will no longer be allowed to be loaded via this mode unless they are explicitly allowlisted by the user via `torch.serialization.add_safe_globals`. We recommend you start setting `weights_only=True` for any use case where you don't have full control of the loaded file. Please open an issue on GitHub for any issues related to this experimental feature.\n",
      "  state_dict = torch.load(pretrained_model)\n",
      "/home/yuqing/mjx/ppo_agent.py:176: FutureWarning: You are using `torch.load` with `weights_only=False` (the current default value), which uses the default pickle module implicitly. It is possible to construct malicious pickle data which will execute arbitrary code during unpickling (See https://github.com/pytorch/pytorch/blob/main/SECURITY.md#untrusted-models for more details). In a future release, the default value for `weights_only` will be flipped to `True`. This limits the functions that could be executed during unpickling. Arbitrary objects will no longer be allowed to be loaded via this mode unless they are explicitly allowlisted by the user via `torch.serialization.add_safe_globals`. We recommend you start setting `weights_only=True` for any use case where you don't have full control of the loaded file. Please open an issue on GitHub for any issues related to this experimental feature.\n",
      "  state_dict = torch.load(\"logs/ppo_cr_cl/best_model_ppo5_stage_1.pt\")\n"
     ]
    },
    {
     "name": "stdout",
     "output_type": "stream",
     "text": [
      "Loaded pretrained model from rl_models/ppo_random_opponent_model_3e-4.pt\n"
     ]
    }
   ],
   "source": [
    "\n",
    "ppo_agent = PPOAgent(\n",
    "    input_dim=544,\n",
    "    hidden_dim=128,\n",
    "    output_dim=181,\n",
    "    pretrained_model=\"rl_models/ppo_random_opponent_model_3e-4.pt\", # If have a pretrained model, load it\n",
    ")\n"
   ]
  },
  {
   "cell_type": "code",
   "execution_count": 7,
   "id": "40ad48b5",
   "metadata": {},
   "outputs": [
    {
     "name": "stderr",
     "output_type": "stream",
     "text": [
      "  0%|          | 0/1000 [00:00<?, ?it/s]"
     ]
    },
    {
     "name": "stderr",
     "output_type": "stream",
     "text": [
      " 91%|█████████▏| 914/1000 [53:51<05:25,  3.79s/it]  "
     ]
    },
    {
     "ename": "",
     "evalue": "",
     "output_type": "error",
     "traceback": [
      "\u001b[1;31mThe Kernel crashed while executing code in the current cell or a previous cell. \n",
      "\u001b[1;31mPlease review the code in the cell(s) to identify a possible cause of the failure. \n",
      "\u001b[1;31mClick <a href='https://aka.ms/vscodeJupyterKernelCrash'>here</a> for more info. \n",
      "\u001b[1;31mView Jupyter <a href='command:jupyter.viewOutput'>log</a> for further details."
     ]
    }
   ],
   "source": [
    "env = GymEnv(opponent_agents=[RandomAgent(), RandomAgent(), RandomAgent()], info_type=\"default\")\n",
    "N = 1000\n",
    "\n",
    "records = []\n",
    "for _ in tqdm(range(N)):\n",
    "    obs, info = env.reset()\n",
    "    done = False\n",
    "    while not done:\n",
    "        action_mask = info[\"action_mask\"]\n",
    "        action = ppo_agent.act(obs, action_mask)\n",
    "\n",
    "        # env.step 只需要 PPO 的动作，内部会处理其他 agent\n",
    "        obs, reward, done, info = env.step(action)\n",
    "\n",
    "    my_index = env.curr_obs_dict['player_0'].who()\n",
    "    my_score = env.curr_obs_dict['player_0'].tens()[my_index] - 25000\n",
    "    my_reward = env.mjx_env.rewards()['player_0']\n",
    "    my_rank = RANK_DICT[my_reward]\n",
    "\n",
    "\n",
    "    records.append({\n",
    "        \"my_score\": my_score,\n",
    "        \"my_rank\": my_rank,\n",
    "    })\n",
    "\n",
    "eval(records)"
   ]
  }
 ],
 "metadata": {
  "kernelspec": {
   "display_name": "mjx_env",
   "language": "python",
   "name": "python3"
  },
  "language_info": {
   "codemirror_mode": {
    "name": "ipython",
    "version": 3
   },
   "file_extension": ".py",
   "mimetype": "text/x-python",
   "name": "python",
   "nbconvert_exporter": "python",
   "pygments_lexer": "ipython3",
   "version": "3.8.20"
  }
 },
 "nbformat": 4,
 "nbformat_minor": 5
}
