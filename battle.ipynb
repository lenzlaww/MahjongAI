{
 "cells": [
  {
   "cell_type": "code",
   "execution_count": null,
   "id": "7c8f5133",
   "metadata": {},
   "outputs": [],
   "source": [
    "import mjx\n",
    "from mjx.agents import RandomAgent, ShantenAgent\n",
    "\n",
    "from ppo_agent import PPOAgent, GymEnv\n",
    "from tqdm import tqdm\n",
    "import numpy as np\n",
    "\n",
    "import json\n"
   ]
  },
  {
   "cell_type": "code",
   "execution_count": null,
   "id": "98f6804f",
   "metadata": {},
   "outputs": [],
   "source": [
    "RANK_DICT = {\n",
    "    90 : 1,\n",
    "    45 : 2,\n",
    "    0 : 3,\n",
    "    -135 : 4\n",
    "}\n",
    "\n",
    "def score_func(avg_score, avg_rank, std_score, std_rank, rank_distribution, \n",
    "          w_score=0.4, w_rank=0.2, w_stability=0.2, w_distribution=0.2):\n",
    "    \"\"\"\n",
    "    rank_distribution: list or array of length 4, e.g. [1st%, 2nd%, 3rd%, 4th%]\n",
    "    \"\"\"\n",
    "\n",
    "    # Normalize avg_score: from [0, 25000] to [0, 1]\n",
    "    score_norm = avg_score / 25000\n",
    "\n",
    "    # Normalize avg_rank: from [1, 4] to [1, 0]\n",
    "    rank_norm = (4 - avg_rank) / 3\n",
    "\n",
    "    # Stability score: low std is better\n",
    "    std_score_norm = 1 - (std_score / 10000)\n",
    "    std_rank_norm = 1 - std_rank  # since max std(rank) is 1 in 4-rank system\n",
    "    stability = 0.5 * std_score_norm + 0.5 * std_rank_norm\n",
    "\n",
    "    # Rank distribution quality: encourage 1st, penalize 4th\n",
    "    dist_score = (\n",
    "        1.0 * rank_distribution[0] +   # 1st\n",
    "        0.6 * rank_distribution[1] +   # 2nd\n",
    "        0.2 * rank_distribution[2] +   # 3rd\n",
    "        -0.5 * rank_distribution[3]    # 4th (penalty)\n",
    "    )\n",
    "\n",
    "    final_score = (\n",
    "        w_score * score_norm +\n",
    "        w_rank * rank_norm +\n",
    "        w_stability * stability +\n",
    "        w_distribution * dist_score\n",
    "    ) * 100  # Optional: scale to 0–100\n",
    "\n",
    "    return final_score\n",
    "\n",
    "    \n",
    "\n",
    "def eval(records):\n",
    "    avg_score = sum([record[\"score\"] for record in records]) / len(records)\n",
    "    avg_rank = sum([record[\"rank\"] for record in records]) / len(records)\n",
    "    std_score = (sum([(record[\"score\"] - avg_score) ** 2 for record in records]) / len(records)) ** 0.5\n",
    "    std_rank = (sum([(record[\"rank\"] - avg_rank) ** 2 for record in records]) / len(records)) ** 0.5\n",
    "    ranks = np.array([r[\"rank\"] for r in records])\n",
    "    total_games = len(ranks)\n",
    "\n",
    "    rank_counts = np.bincount(ranks)[1:5]  \n",
    "    rank_distribution = rank_counts / total_games\n",
    "\n",
    "    score = score_func(\n",
    "        avg_score,\n",
    "        avg_rank,\n",
    "        std_score,\n",
    "        std_rank,\n",
    "        rank_distribution\n",
    "    )\n",
    "    \n",
    "    print(f\"Average score: {avg_score:.2f} ± {std_score:.2f}\")\n",
    "    print(f\"Average rank: {avg_rank:.2f} ± {std_rank:.2f}\")\n",
    "    print(f\"Rank distribution: {rank_distribution}\")\n",
    "    print(f\"Score: {score:.2f}\")\n",
    "\n",
    "\n",
    "\n"
   ]
  },
  {
   "cell_type": "markdown",
   "id": "ca6213e3",
   "metadata": {},
   "source": [
    "## Test Base Model: Base Model vs. Base Model"
   ]
  },
  {
   "cell_type": "code",
   "execution_count": null,
   "id": "7b98be1b",
   "metadata": {},
   "outputs": [],
   "source": [
    "def test_base_agent(my_agent, num_games=100):\n",
    "    env = mjx.MjxEnv()\n",
    "    results = []\n",
    "    players = [\n",
    "        my_agent,\n",
    "        ShantenAgent(),\n",
    "        ShantenAgent(),\n",
    "        ShantenAgent(),\n",
    "    ]\n",
    "\n",
    "    for _ in tqdm(range(num_games)):\n",
    "        obs_dict = env.reset()\n",
    "        while not env.done():\n",
    "            # actions = {\n",
    "            #     player_id: my_agent.act(obs_dict[player_id])\n",
    "            #     for player_id in obs_dict.keys()\n",
    "            # }\n",
    "            actions = {\n",
    "                player_id: players[i].act(obs_dict[player_id])\n",
    "                for i, player_id in enumerate(obs_dict.keys())\n",
    "            }\n",
    "\n",
    "            obs_dict = env.step(actions)\n",
    "\n",
    "        my_index = obs_dict[\"player_0\"].who()\n",
    "        score = obs_dict[\"player_0\"].tens()[my_index]\n",
    "        my_reward = env.rewards()[\"player_0\"]\n",
    "        my_rank = RANK_DICT[my_reward]\n",
    "\n",
    "        results.append({\"rank\": my_rank, \"score\": score})\n",
    "        \n",
    "    return results"
   ]
  },
  {
   "cell_type": "markdown",
   "id": "f83ae606",
   "metadata": {},
   "source": [
    "### Test Random Agent"
   ]
  },
  {
   "cell_type": "code",
   "execution_count": null,
   "id": "c868875e",
   "metadata": {},
   "outputs": [
    {
     "name": "stderr",
     "output_type": "stream",
     "text": [
      "100%|██████████| 100/100 [00:04<00:00, 22.02it/s]"
     ]
    },
    {
     "name": "stdout",
     "output_type": "stream",
     "text": [
      "Average score: 25187.00 ± 2639.76\n",
      "Average rank: 2.30 ± 1.07\n",
      "Rank distribution: [0.3  0.27 0.26 0.17]\n",
      "Score: 66.85\n"
     ]
    },
    {
     "name": "stderr",
     "output_type": "stream",
     "text": [
      "\n"
     ]
    }
   ],
   "source": [
    "random_agent = RandomAgent()\n",
    "random_agent_results = test_base_agent(random_agent, num_games=100)\n",
    "# store results in a json file\n",
    "with open(\"logs/battle_results/random_agent_results.json\", \"w\") as f:\n",
    "    json.dump(random_agent_results, f)\n",
    "eval(random_agent_results)"
   ]
  },
  {
   "cell_type": "markdown",
   "id": "2e552d5b",
   "metadata": {},
   "source": [
    "### Test Shanten Agent"
   ]
  },
  {
   "cell_type": "code",
   "execution_count": null,
   "id": "a39324ae",
   "metadata": {},
   "outputs": [
    {
     "name": "stderr",
     "output_type": "stream",
     "text": [
      "100%|██████████| 100/100 [00:08<00:00, 12.20it/s]"
     ]
    },
    {
     "name": "stdout",
     "output_type": "stream",
     "text": [
      "Average score: 24367.00 ± 11017.75\n",
      "Average rank: 2.67 ± 1.12\n",
      "Rank distribution: [0.22 0.19 0.29 0.3 ]\n",
      "Score: 50.45\n"
     ]
    },
    {
     "name": "stderr",
     "output_type": "stream",
     "text": [
      "\n"
     ]
    }
   ],
   "source": [
    "shanten_agent = ShantenAgent()\n",
    "shanten_agent_results = test_base_agent(shanten_agent, num_games=100)\n",
    "# store results in a json file\n",
    "with open(\"logs/battle_results/shanten_agent_results.json\", \"w\") as f:\n",
    "    json.dump(shanten_agent_results, f)\n",
    "eval(shanten_agent_results)"
   ]
  },
  {
   "cell_type": "markdown",
   "id": "07537c71",
   "metadata": {},
   "source": [
    "## Test PPO Model: PPO Model vs. Base Model"
   ]
  },
  {
   "cell_type": "code",
   "execution_count": null,
   "id": "a607e05a",
   "metadata": {},
   "outputs": [],
   "source": [
    "def test_ppo_agent(pretrained_model, num_games=100):\n",
    "    my_agent = PPOAgent(\n",
    "        input_dim=544,\n",
    "        hidden_dim=128,\n",
    "        output_dim=181,\n",
    "        pretrained_model=pretrained_model, # If have a pretrained model, load it\n",
    "    )\n",
    "    env = GymEnv(opponent_agents=[RandomAgent(), RandomAgent(), RandomAgent()], info_type=\"default\")\n",
    "\n",
    "    records = []\n",
    "    for _ in tqdm(range(num_games)):\n",
    "        obs, info = env.reset()\n",
    "        done = False\n",
    "        while not done:\n",
    "            action_mask = info[\"action_mask\"]\n",
    "            action = my_agent.act(obs, action_mask)\n",
    "\n",
    "            # env.step returns obs, reward, done, info\n",
    "            obs, reward, done, info = env.step(action)\n",
    "\n",
    "        my_index = env.curr_obs_dict['player_0'].who()\n",
    "        my_score = env.curr_obs_dict['player_0'].tens()[my_index]\n",
    "        my_reward = env.mjx_env.rewards()['player_0']\n",
    "        my_rank = RANK_DICT[my_reward]\n",
    "\n",
    "\n",
    "        records.append({\n",
    "            \"score\": my_score,\n",
    "            \"rank\": my_rank,\n",
    "        })\n",
    "\n",
    "    return records"
   ]
  },
  {
   "cell_type": "markdown",
   "id": "608366cd",
   "metadata": {},
   "source": [
    "### Test PPO Agent 1\n",
    "PPO Agent 1 learned from random agent opponents and use the final rank as the reward.\n"
   ]
  },
  {
   "cell_type": "code",
   "execution_count": null,
   "id": "11f8bbaa",
   "metadata": {},
   "outputs": [
    {
     "name": "stderr",
     "output_type": "stream",
     "text": [
      "/home/lenzlaww/document/SBU/CSE537/finalProject/MahjongAI/ppo_agent.py:175: FutureWarning: You are using `torch.load` with `weights_only=False` (the current default value), which uses the default pickle module implicitly. It is possible to construct malicious pickle data which will execute arbitrary code during unpickling (See https://github.com/pytorch/pytorch/blob/main/SECURITY.md#untrusted-models for more details). In a future release, the default value for `weights_only` will be flipped to `True`. This limits the functions that could be executed during unpickling. Arbitrary objects will no longer be allowed to be loaded via this mode unless they are explicitly allowlisted by the user via `torch.serialization.add_safe_globals`. We recommend you start setting `weights_only=True` for any use case where you don't have full control of the loaded file. Please open an issue on GitHub for any issues related to this experimental feature.\n",
      "  state_dict = torch.load(pretrained_model)\n"
     ]
    },
    {
     "name": "stdout",
     "output_type": "stream",
     "text": [
      "Loaded pretrained model from pretrained_models/ppo1_model.pt\n"
     ]
    },
    {
     "name": "stderr",
     "output_type": "stream",
     "text": [
      "  0%|          | 0/100 [00:00<?, ?it/s]/home/lenzlaww/document/SBU/CSE537/finalProject/MahjongAI/discard_tile/discard.py:81: FutureWarning: You are using `torch.load` with `weights_only=False` (the current default value), which uses the default pickle module implicitly. It is possible to construct malicious pickle data which will execute arbitrary code during unpickling (See https://github.com/pytorch/pytorch/blob/main/SECURITY.md#untrusted-models for more details). In a future release, the default value for `weights_only` will be flipped to `True`. This limits the functions that could be executed during unpickling. Arbitrary objects will no longer be allowed to be loaded via this mode unless they are explicitly allowlisted by the user via `torch.serialization.add_safe_globals`. We recommend you start setting `weights_only=True` for any use case where you don't have full control of the loaded file. Please open an issue on GitHub for any issues related to this experimental feature.\n",
      "  model.load_state_dict(torch.load(path, map_location=DEVICE)['model_state'])\n",
      "100%|██████████| 100/100 [34:23<00:00, 20.63s/it]\n"
     ]
    },
    {
     "ename": "KeyError",
     "evalue": "'score'",
     "output_type": "error",
     "traceback": [
      "\u001b[0;31m---------------------------------------------------------------------------\u001b[0m",
      "\u001b[0;31mKeyError\u001b[0m                                  Traceback (most recent call last)",
      "Cell \u001b[0;32mIn[7], line 3\u001b[0m\n\u001b[1;32m      1\u001b[0m ppo1_model \u001b[38;5;241m=\u001b[39m \u001b[38;5;124m\"\u001b[39m\u001b[38;5;124mpretrained_models/ppo1_model.pt\u001b[39m\u001b[38;5;124m\"\u001b[39m\n\u001b[1;32m      2\u001b[0m ppo_agent1_results \u001b[38;5;241m=\u001b[39m test_ppo_agent(ppo1_model, num_games\u001b[38;5;241m=\u001b[39m\u001b[38;5;241m100\u001b[39m)\n\u001b[0;32m----> 3\u001b[0m \u001b[38;5;28;43meval\u001b[39;49m\u001b[43m(\u001b[49m\u001b[43mppo_agent1_results\u001b[49m\u001b[43m)\u001b[49m\n",
      "Cell \u001b[0;32mIn[2], line 9\u001b[0m, in \u001b[0;36meval\u001b[0;34m(records)\u001b[0m\n\u001b[1;32m      8\u001b[0m \u001b[38;5;28;01mdef\u001b[39;00m \u001b[38;5;21meval\u001b[39m(records):\n\u001b[0;32m----> 9\u001b[0m     avg_score \u001b[38;5;241m=\u001b[39m \u001b[38;5;28msum\u001b[39m([record[\u001b[38;5;124m\"\u001b[39m\u001b[38;5;124mscore\u001b[39m\u001b[38;5;124m\"\u001b[39m] \u001b[38;5;28;01mfor\u001b[39;00m record \u001b[38;5;129;01min\u001b[39;00m records]) \u001b[38;5;241m/\u001b[39m \u001b[38;5;28mlen\u001b[39m(records)\n\u001b[1;32m     10\u001b[0m     avg_rank \u001b[38;5;241m=\u001b[39m \u001b[38;5;28msum\u001b[39m([record[\u001b[38;5;124m\"\u001b[39m\u001b[38;5;124mrank\u001b[39m\u001b[38;5;124m\"\u001b[39m] \u001b[38;5;28;01mfor\u001b[39;00m record \u001b[38;5;129;01min\u001b[39;00m records]) \u001b[38;5;241m/\u001b[39m \u001b[38;5;28mlen\u001b[39m(records)\n\u001b[1;32m     12\u001b[0m     \u001b[38;5;28mprint\u001b[39m(\u001b[38;5;124mf\u001b[39m\u001b[38;5;124m\"\u001b[39m\u001b[38;5;124mAverage score: \u001b[39m\u001b[38;5;132;01m{\u001b[39;00mavg_score\u001b[38;5;132;01m:\u001b[39;00m\u001b[38;5;124m.2f\u001b[39m\u001b[38;5;132;01m}\u001b[39;00m\u001b[38;5;124m\"\u001b[39m)\n",
      "Cell \u001b[0;32mIn[2], line 9\u001b[0m, in \u001b[0;36m<listcomp>\u001b[0;34m(.0)\u001b[0m\n\u001b[1;32m      8\u001b[0m \u001b[38;5;28;01mdef\u001b[39;00m \u001b[38;5;21meval\u001b[39m(records):\n\u001b[0;32m----> 9\u001b[0m     avg_score \u001b[38;5;241m=\u001b[39m \u001b[38;5;28msum\u001b[39m([\u001b[43mrecord\u001b[49m\u001b[43m[\u001b[49m\u001b[38;5;124;43m\"\u001b[39;49m\u001b[38;5;124;43mscore\u001b[39;49m\u001b[38;5;124;43m\"\u001b[39;49m\u001b[43m]\u001b[49m \u001b[38;5;28;01mfor\u001b[39;00m record \u001b[38;5;129;01min\u001b[39;00m records]) \u001b[38;5;241m/\u001b[39m \u001b[38;5;28mlen\u001b[39m(records)\n\u001b[1;32m     10\u001b[0m     avg_rank \u001b[38;5;241m=\u001b[39m \u001b[38;5;28msum\u001b[39m([record[\u001b[38;5;124m\"\u001b[39m\u001b[38;5;124mrank\u001b[39m\u001b[38;5;124m\"\u001b[39m] \u001b[38;5;28;01mfor\u001b[39;00m record \u001b[38;5;129;01min\u001b[39;00m records]) \u001b[38;5;241m/\u001b[39m \u001b[38;5;28mlen\u001b[39m(records)\n\u001b[1;32m     12\u001b[0m     \u001b[38;5;28mprint\u001b[39m(\u001b[38;5;124mf\u001b[39m\u001b[38;5;124m\"\u001b[39m\u001b[38;5;124mAverage score: \u001b[39m\u001b[38;5;132;01m{\u001b[39;00mavg_score\u001b[38;5;132;01m:\u001b[39;00m\u001b[38;5;124m.2f\u001b[39m\u001b[38;5;132;01m}\u001b[39;00m\u001b[38;5;124m\"\u001b[39m)\n",
      "\u001b[0;31mKeyError\u001b[0m: 'score'"
     ]
    }
   ],
   "source": [
    "ppo1_model = \"pretrained_models/ppo1_model.pt\"\n",
    "ppo_agent1_results = test_ppo_agent(ppo1_model, num_games=100)\n"
   ]
  },
  {
   "cell_type": "code",
   "execution_count": null,
   "id": "c4fbef36",
   "metadata": {},
   "outputs": [
    {
     "name": "stdout",
     "output_type": "stream",
     "text": [
      "Average score: 28005.00 ± 3454.40\n",
      "Average rank: 1.55 ± 0.91\n"
     ]
    }
   ],
   "source": [
    "# store results in a json file\n",
    "with open(\"logs/battle_results/ppo_agent1_results.json\", \"w\") as f:\n",
    "    json.dump(ppo_agent1_results, f)\n",
    "eval(ppo_agent1_results)"
   ]
  },
  {
   "cell_type": "markdown",
   "id": "811773c2",
   "metadata": {},
   "source": [
    "### Test PPO Agent 2 \n",
    "PPO Agent 2 learned from shanten agent opponents and use the final rank as the reward"
   ]
  },
  {
   "cell_type": "code",
   "execution_count": 12,
   "id": "8670cb60",
   "metadata": {},
   "outputs": [
    {
     "name": "stderr",
     "output_type": "stream",
     "text": [
      "/home/lenzlaww/document/SBU/CSE537/finalProject/MahjongAI/ppo_agent.py:175: FutureWarning: You are using `torch.load` with `weights_only=False` (the current default value), which uses the default pickle module implicitly. It is possible to construct malicious pickle data which will execute arbitrary code during unpickling (See https://github.com/pytorch/pytorch/blob/main/SECURITY.md#untrusted-models for more details). In a future release, the default value for `weights_only` will be flipped to `True`. This limits the functions that could be executed during unpickling. Arbitrary objects will no longer be allowed to be loaded via this mode unless they are explicitly allowlisted by the user via `torch.serialization.add_safe_globals`. We recommend you start setting `weights_only=True` for any use case where you don't have full control of the loaded file. Please open an issue on GitHub for any issues related to this experimental feature.\n",
      "  state_dict = torch.load(pretrained_model)\n"
     ]
    },
    {
     "name": "stdout",
     "output_type": "stream",
     "text": [
      "Loaded pretrained model from pretrained_models/ppo2_model.pt\n"
     ]
    },
    {
     "name": "stderr",
     "output_type": "stream",
     "text": [
      "  0%|          | 0/100 [00:00<?, ?it/s]/home/lenzlaww/document/SBU/CSE537/finalProject/MahjongAI/discard_tile/discard.py:81: FutureWarning: You are using `torch.load` with `weights_only=False` (the current default value), which uses the default pickle module implicitly. It is possible to construct malicious pickle data which will execute arbitrary code during unpickling (See https://github.com/pytorch/pytorch/blob/main/SECURITY.md#untrusted-models for more details). In a future release, the default value for `weights_only` will be flipped to `True`. This limits the functions that could be executed during unpickling. Arbitrary objects will no longer be allowed to be loaded via this mode unless they are explicitly allowlisted by the user via `torch.serialization.add_safe_globals`. We recommend you start setting `weights_only=True` for any use case where you don't have full control of the loaded file. Please open an issue on GitHub for any issues related to this experimental feature.\n",
      "  model.load_state_dict(torch.load(path, map_location=DEVICE)['model_state'])\n",
      "100%|██████████| 100/100 [34:30<00:00, 20.70s/it]\n"
     ]
    },
    {
     "name": "stdout",
     "output_type": "stream",
     "text": [
      "Average score: 3302.00\n",
      "Average rank: 1.50\n"
     ]
    }
   ],
   "source": [
    "ppo2_model = \"pretrained_models/ppo2_model.pt\"\n",
    "ppo_agent2_results = test_ppo_agent(ppo2_model, num_games=100)\n",
    "eval(ppo_agent2_results)"
   ]
  },
  {
   "cell_type": "code",
   "execution_count": null,
   "id": "f7431da7",
   "metadata": {},
   "outputs": [
    {
     "name": "stdout",
     "output_type": "stream",
     "text": [
      "Average score: 28302.00 ± 4475.00\n",
      "Average rank: 1.50 ± 0.93\n"
     ]
    }
   ],
   "source": [
    "# store results in a json file\n",
    "with open(\"logs/battle_results/ppo_agent2_results.json\", \"w\") as f:\n",
    "    json.dump(ppo_agent2_results, f)\n",
    "eval(ppo_agent2_results)"
   ]
  },
  {
   "cell_type": "markdown",
   "id": "571a61d0",
   "metadata": {},
   "source": [
    "### Test PPO Agent 3\n",
    "PPO Agent 3 learned from shanten agent opponents and use the custom reward"
   ]
  },
  {
   "cell_type": "code",
   "execution_count": null,
   "id": "37ecb097",
   "metadata": {},
   "outputs": [
    {
     "name": "stdout",
     "output_type": "stream",
     "text": [
      "Loaded pretrained model from pretrained_models/ppo3_model.pt\n"
     ]
    },
    {
     "name": "stderr",
     "output_type": "stream",
     "text": [
      "100%|██████████| 100/100 [30:27<00:00, 18.28s/it]\n"
     ]
    },
    {
     "name": "stdout",
     "output_type": "stream",
     "text": [
      "Average score: 5968.00\n",
      "Average rank: 1.10\n"
     ]
    }
   ],
   "source": [
    "ppo3_model = \"pretrained_models/ppo3_model.pt\"\n",
    "ppo_agent3_results = test_ppo_agent(ppo3_model, num_games=100)"
   ]
  },
  {
   "cell_type": "code",
   "execution_count": null,
   "id": "fb2020db",
   "metadata": {},
   "outputs": [],
   "source": [
    "# store results in a json file\n",
    "with open(\"logs/battle_results/ppo_agent3_results.json\", \"w\") as f:\n",
    "    json.dump(ppo_agent3_results, f)\n",
    "eval(ppo_agent3_results)"
   ]
  },
  {
   "cell_type": "code",
   "execution_count": null,
   "id": "d4744584",
   "metadata": {},
   "outputs": [
    {
     "name": "stdout",
     "output_type": "stream",
     "text": [
      "Average score: 29943.00 ± 4552.74\n",
      "Average rank: 1.13 ± 0.44\n"
     ]
    }
   ],
   "source": [
    "eval(ppo_agent3_results)"
   ]
  },
  {
   "cell_type": "markdown",
   "id": "8e740c79",
   "metadata": {},
   "source": [
    "### Test PPO Agent 4\n",
    "PPO Agent 4 learned from shanten agent opponents, use the custom reward, with curriculum learning"
   ]
  },
  {
   "cell_type": "code",
   "execution_count": null,
   "id": "1bd8c6e6",
   "metadata": {},
   "outputs": [
    {
     "name": "stdout",
     "output_type": "stream",
     "text": [
      "Loaded pretrained model from pretrained_models/ppo4_model.pt\n"
     ]
    },
    {
     "name": "stderr",
     "output_type": "stream",
     "text": [
      "100%|██████████| 100/100 [38:39<00:00, 23.20s/it]"
     ]
    },
    {
     "name": "stdout",
     "output_type": "stream",
     "text": [
      "Average score: 54544.00 ± 3902.62\n",
      "Average rank: 1.27 ± 0.65\n"
     ]
    },
    {
     "name": "stderr",
     "output_type": "stream",
     "text": [
      "\n"
     ]
    }
   ],
   "source": [
    "ppo4_model = \"pretrained_models/ppo4_model.pt\"\n",
    "ppo_agent4_results = test_ppo_agent(ppo4_model, num_games=100)\n"
   ]
  },
  {
   "cell_type": "code",
   "execution_count": null,
   "id": "856308c4",
   "metadata": {},
   "outputs": [],
   "source": [
    "# store results in a json file\n",
    "with open(\"logs/battle_results/ppo_agent4_results.json\", \"w\") as f:\n",
    "    json.dump(ppo_agent4_results, f)\n",
    "eval(ppo_agent4_results)"
   ]
  },
  {
   "cell_type": "markdown",
   "id": "43706284",
   "metadata": {},
   "source": [
    "### Test PPO Agent 5\n",
    "PPO Agent 5 learned from shanten agen opponents, use the custom reward with discard supervised learning model"
   ]
  },
  {
   "cell_type": "code",
   "execution_count": null,
   "id": "e4f633f2",
   "metadata": {},
   "outputs": [
    {
     "name": "stderr",
     "output_type": "stream",
     "text": [
      "/home/lenzlaww/document/SBU/CSE537/finalProject/MahjongAI/ppo_agent.py:175: FutureWarning: You are using `torch.load` with `weights_only=False` (the current default value), which uses the default pickle module implicitly. It is possible to construct malicious pickle data which will execute arbitrary code during unpickling (See https://github.com/pytorch/pytorch/blob/main/SECURITY.md#untrusted-models for more details). In a future release, the default value for `weights_only` will be flipped to `True`. This limits the functions that could be executed during unpickling. Arbitrary objects will no longer be allowed to be loaded via this mode unless they are explicitly allowlisted by the user via `torch.serialization.add_safe_globals`. We recommend you start setting `weights_only=True` for any use case where you don't have full control of the loaded file. Please open an issue on GitHub for any issues related to this experimental feature.\n",
      "  state_dict = torch.load(pretrained_model)\n"
     ]
    },
    {
     "name": "stdout",
     "output_type": "stream",
     "text": [
      "Loaded pretrained model from pretrained_models/ppo5_model.pt\n"
     ]
    },
    {
     "name": "stderr",
     "output_type": "stream",
     "text": [
      "  0%|          | 0/100 [00:00<?, ?it/s]/home/lenzlaww/document/SBU/CSE537/finalProject/MahjongAI/discard_tile/discard.py:81: FutureWarning: You are using `torch.load` with `weights_only=False` (the current default value), which uses the default pickle module implicitly. It is possible to construct malicious pickle data which will execute arbitrary code during unpickling (See https://github.com/pytorch/pytorch/blob/main/SECURITY.md#untrusted-models for more details). In a future release, the default value for `weights_only` will be flipped to `True`. This limits the functions that could be executed during unpickling. Arbitrary objects will no longer be allowed to be loaded via this mode unless they are explicitly allowlisted by the user via `torch.serialization.add_safe_globals`. We recommend you start setting `weights_only=True` for any use case where you don't have full control of the loaded file. Please open an issue on GitHub for any issues related to this experimental feature.\n",
      "  model.load_state_dict(torch.load(path, map_location=DEVICE)['model_state'])\n",
      "100%|██████████| 100/100 [30:48<00:00, 18.48s/it]\n"
     ]
    },
    {
     "name": "stdout",
     "output_type": "stream",
     "text": [
      "Average score: 54265.00 ± 3428.51\n",
      "Average rank: 1.31 ± 0.76\n"
     ]
    }
   ],
   "source": [
    "ppo5_model = \"pretrained_models/ppo5_model.pt\"\n",
    "ppo_agent5_results = test_ppo_agent(ppo5_model, num_games=100)"
   ]
  },
  {
   "cell_type": "code",
   "execution_count": null,
   "id": "13704d1e",
   "metadata": {},
   "outputs": [],
   "source": [
    "# store results in a json file\n",
    "with open(\"logs/battle_results/ppo_agent5_results.json\", \"w\") as f:\n",
    "    json.dump(ppo_agent5_results, f)\n",
    "eval(ppo_agent5_results)"
   ]
  },
  {
   "cell_type": "markdown",
   "id": "59146da9",
   "metadata": {},
   "source": [
    "## Test PPO Agent: Inter-Model Performance Evaluation"
   ]
  },
  {
   "cell_type": "code",
   "execution_count": 7,
   "id": "47d9fdff",
   "metadata": {},
   "outputs": [],
   "source": [
    "def run_game_between_ppo_agents(pretrained_models, num_games=100):\n",
    "    agents = [\n",
    "        PPOAgent(\n",
    "            input_dim=544,\n",
    "            hidden_dim=128,\n",
    "            output_dim=181,\n",
    "            pretrained_model=model,\n",
    "        )\n",
    "        for model in pretrained_models\n",
    "    ]\n",
    "    env = GymEnv(opponent_agents=agents, info_type=\"default\")\n",
    "    records = []\n",
    "    for _ in tqdm(range(num_games)):\n",
    "        obs, info = env.reset()\n",
    "        done = False\n",
    "        while not done:\n",
    "            action_mask = info[\"action_mask\"]\n",
    "            action = agents[0].act(obs, action_mask)\n",
    "\n",
    "            # env.step 只需要 PPO 的动作，内部会处理其他 agent\n",
    "            obs, reward, done, info = env.step(action)\n",
    "\n",
    "        my_index = env.curr_obs_dict['player_0'].who()\n",
    "        my_score = env.curr_obs_dict['player_0'].tens()[my_index]\n",
    "        my_reward = env.mjx_env.rewards()['player_0']\n",
    "        my_rank = RANK_DICT[my_reward]\n",
    "\n",
    "\n",
    "        records.append({\n",
    "            \"score\": my_score,\n",
    "            \"rank\": my_rank,\n",
    "        })\n",
    "\n",
    "    return records"
   ]
  },
  {
   "cell_type": "code",
   "execution_count": null,
   "id": "0846229e",
   "metadata": {},
   "outputs": [
    {
     "name": "stderr",
     "output_type": "stream",
     "text": [
      "/home/lenzlaww/document/SBU/CSE537/finalProject/MahjongAI/ppo_agent.py:46: FutureWarning: You are using `torch.load` with `weights_only=False` (the current default value), which uses the default pickle module implicitly. It is possible to construct malicious pickle data which will execute arbitrary code during unpickling (See https://github.com/pytorch/pytorch/blob/main/SECURITY.md#untrusted-models for more details). In a future release, the default value for `weights_only` will be flipped to `True`. This limits the functions that could be executed during unpickling. Arbitrary objects will no longer be allowed to be loaded via this mode unless they are explicitly allowlisted by the user via `torch.serialization.add_safe_globals`. We recommend you start setting `weights_only=True` for any use case where you don't have full control of the loaded file. Please open an issue on GitHub for any issues related to this experimental feature.\n",
      "  state_dict = torch.load(pretrained_model)\n"
     ]
    },
    {
     "name": "stdout",
     "output_type": "stream",
     "text": [
      "Loaded pretrained model from pretrained_models/ppo2_model.pt\n"
     ]
    },
    {
     "name": "stderr",
     "output_type": "stream",
     "text": [
      "/home/lenzlaww/document/SBU/CSE537/finalProject/MahjongAI/ppo_agent.py:46: FutureWarning: You are using `torch.load` with `weights_only=False` (the current default value), which uses the default pickle module implicitly. It is possible to construct malicious pickle data which will execute arbitrary code during unpickling (See https://github.com/pytorch/pytorch/blob/main/SECURITY.md#untrusted-models for more details). In a future release, the default value for `weights_only` will be flipped to `True`. This limits the functions that could be executed during unpickling. Arbitrary objects will no longer be allowed to be loaded via this mode unless they are explicitly allowlisted by the user via `torch.serialization.add_safe_globals`. We recommend you start setting `weights_only=True` for any use case where you don't have full control of the loaded file. Please open an issue on GitHub for any issues related to this experimental feature.\n",
      "  state_dict = torch.load(pretrained_model)\n"
     ]
    },
    {
     "name": "stdout",
     "output_type": "stream",
     "text": [
      "Loaded pretrained model from pretrained_models/ppo3_model.pt\n",
      "Loaded pretrained model from pretrained_models/ppo4_model.pt\n",
      "Loaded pretrained model from pretrained_models/ppo5_model.pt\n"
     ]
    },
    {
     "name": "stderr",
     "output_type": "stream",
     "text": [
      "  0%|          | 0/100 [00:00<?, ?it/s]/home/lenzlaww/document/SBU/CSE537/finalProject/MahjongAI/discard_tile/discard.py:81: FutureWarning: You are using `torch.load` with `weights_only=False` (the current default value), which uses the default pickle module implicitly. It is possible to construct malicious pickle data which will execute arbitrary code during unpickling (See https://github.com/pytorch/pytorch/blob/main/SECURITY.md#untrusted-models for more details). In a future release, the default value for `weights_only` will be flipped to `True`. This limits the functions that could be executed during unpickling. Arbitrary objects will no longer be allowed to be loaded via this mode unless they are explicitly allowlisted by the user via `torch.serialization.add_safe_globals`. We recommend you start setting `weights_only=True` for any use case where you don't have full control of the loaded file. Please open an issue on GitHub for any issues related to this experimental feature.\n",
      "  model.load_state_dict(torch.load(path, map_location=DEVICE)['model_state'])\n",
      " 91%|█████████ | 91/100 [38:11<03:42, 24.77s/it]"
     ]
    }
   ],
   "source": [
    "ppo2_model = \"pretrained_models/ppo2_model.pt\"\n",
    "ppo3_model = \"pretrained_models/ppo3_model.pt\"\n",
    "ppo4_model = \"pretrained_models/ppo4_model.pt\"\n",
    "ppo5_model = \"pretrained_models/ppo5_model.pt\"\n",
    "\n",
    "game_players = [ppo2_model, ppo3_model, ppo4_model, ppo5_model]\n",
    "ppo_agent_results = run_game_between_ppo_agents(game_players, num_games=100)"
   ]
  },
  {
   "cell_type": "code",
   "execution_count": null,
   "id": "177c04c7",
   "metadata": {},
   "outputs": [],
   "source": [
    "# store results in a json file\n",
    "with open(\"logs/battle_results/ppo_agent_results.json\", \"w\") as f:\n",
    "    json.dump(ppo_agent_results, f)\n",
    "eval(ppo_agent_results)"
   ]
  }
 ],
 "metadata": {
  "kernelspec": {
   "display_name": "mjx_env",
   "language": "python",
   "name": "python3"
  },
  "language_info": {
   "codemirror_mode": {
    "name": "ipython",
    "version": 3
   },
   "file_extension": ".py",
   "mimetype": "text/x-python",
   "name": "python",
   "nbconvert_exporter": "python",
   "pygments_lexer": "ipython3",
   "version": "3.8.20"
  }
 },
 "nbformat": 4,
 "nbformat_minor": 5
}
