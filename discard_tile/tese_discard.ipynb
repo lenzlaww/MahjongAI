{
 "cells": [
  {
   "cell_type": "markdown",
   "id": "02ef4e6d",
   "metadata": {},
   "source": [
    "use to test discard module"
   ]
  },
  {
   "cell_type": "code",
   "execution_count": 3,
   "id": "d97eb647",
   "metadata": {},
   "outputs": [],
   "source": [
    "import mjx\n",
    "import random\n",
    "from typing import List\n",
    "from tqdm import tqdm\n",
    "from mjx.agents import RandomAgent, ShantenAgent\n",
    "import json\n",
    "import ast\n",
    "from mjx.open import Open"
   ]
  },
  {
   "cell_type": "code",
   "execution_count": null,
   "id": "846dfdc6",
   "metadata": {},
   "outputs": [],
   "source": [
    "# sample agent\n",
    "agent = ShantenAgent()\n",
    "env = mjx.MjxEnv()\n",
    "N = 1\n",
    "for _ in tqdm(range(N)):\n",
    "  obs_dict = env.reset()\n",
    "  cnt = 0\n",
    "  while True:\n",
    "      actions = {player_id: agent.act(obs)\n",
    "              for player_id, obs in obs_dict.items()}\n",
    "      obs_dict = env.step(actions)\n",
    "      obs = next(iter(obs_dict.values()))\n",
    "\n",
    "      pid = next(iter(obs_dict.keys()))\n",
    "      if pid == 'player_0':\n",
    "          cnt += 1\n",
    "      if cnt == 45:\n",
    "          print(\"50th draw\")\n",
    "          break\n",
    "\n",
    "  returns = env.rewards()"
   ]
  },
  {
   "cell_type": "code",
   "execution_count": null,
   "id": "92100041",
   "metadata": {},
   "outputs": [],
   "source": []
  }
 ],
 "metadata": {
  "kernelspec": {
   "display_name": "mjx_env",
   "language": "python",
   "name": "python3"
  },
  "language_info": {
   "codemirror_mode": {
    "name": "ipython",
    "version": 3
   },
   "file_extension": ".py",
   "mimetype": "text/x-python",
   "name": "python",
   "nbconvert_exporter": "python",
   "pygments_lexer": "ipython3",
   "version": "3.8.20"
  }
 },
 "nbformat": 4,
 "nbformat_minor": 5
}
