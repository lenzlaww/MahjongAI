{
 "cells": [
  {
   "cell_type": "code",
   "execution_count": null,
   "id": "02384569",
   "metadata": {},
   "outputs": [],
   "source": [
    "#round wind\n",
    "obs.round()"
   ]
  },
  {
   "cell_type": "code",
   "execution_count": null,
   "id": "9b0bf66c",
   "metadata": {},
   "outputs": [],
   "source": [
    "# dealer\n",
    "obs.dealer()\n",
    "#POV\n",
    "obs.who()\n",
    "#honba\n",
    "obs.honba()\n",
    "#riichi\n",
    "obs.kyotaku()"
   ]
  },
  {
   "cell_type": "code",
   "execution_count": null,
   "id": "b7f94015",
   "metadata": {},
   "outputs": [],
   "source": [
    "#wall tile\n",
    "\n",
    "state = env.state().to_json()\n",
    "state = json.loads(state)\n",
    "len(state[\"hiddenState\"][\"wall\"])"
   ]
  },
  {
   "cell_type": "code",
   "execution_count": null,
   "id": "8bba2fb4",
   "metadata": {},
   "outputs": [],
   "source": [
    "# p0-p3 score\n",
    "if \"wins\" in state_dict[\"roundTerminal\"]:\n",
    "    tens_change = state_dict[\"roundTerminal\"][\"wins\"][0]['tenChanges'][obs.who()]"
   ]
  },
  {
   "cell_type": "code",
   "execution_count": null,
   "id": "a7b203a1",
   "metadata": {},
   "outputs": [],
   "source": [
    "# dora\n",
    "state = env.state()\n",
    "state_json = state.to_json()\n",
    "state_dict = json.loads(state_json)\n",
    "state_dict[\"publicObservation\"][\"doraIndicators\"]"
   ]
  },
  {
   "cell_type": "code",
   "execution_count": null,
   "id": "b149f976",
   "metadata": {},
   "outputs": [],
   "source": [
    "# hand\n",
    "obs_dict = env.reset()\n",
    "for pid, obs in obs_dict.items():\n",
    "    print(f\"{pid} hand tile: {obs.curr_hand()}\")"
   ]
  },
  {
   "cell_type": "code",
   "execution_count": null,
   "id": "dd297b45",
   "metadata": {},
   "outputs": [],
   "source": [
    "# melds\n",
    "for meld in obs.curr_hand().opens():\n",
    "    opens = meld.tiles()\n",
    "    for open in opens:\n",
    "        print(open.id())\n",
    "    "
   ]
  }
 ],
 "metadata": {
  "language_info": {
   "name": "python"
  }
 },
 "nbformat": 4,
 "nbformat_minor": 5
}
